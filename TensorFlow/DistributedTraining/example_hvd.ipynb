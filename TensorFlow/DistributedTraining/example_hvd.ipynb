{
 "cells": [
  {
   "cell_type": "markdown",
   "id": "eb8ea3fe-b1f7-493a-bf14-20dcea76a184",
   "metadata": {},
   "source": [
    "# Licensed under the Apache License, Version 2.0 (the \"License\");\n",
    "you may not use this file except in compliance with the License.\n",
    "You may obtain a copy of the License at https://www.apache.org/licenses/LICENSE-2.0\n",
    "Unless required by applicable law or agreed to in writing, software distributed under the License is distributed on an \"AS IS\" BASIS, WITHOUT WARRANTIES OR CONDITIONS OF ANY KIND, either express or implied.\n",
    "See the License for the specific language governing permissions and limitations under the License."
   ]
  },
  {
   "cell_type": "markdown",
   "id": "2cb92f76",
   "metadata": {
    "tags": []
   },
   "source": [
    "# Distributed Training Using TensorFlow and Horovod\n",
    "This tutorial demonstrates how distributed training works with [Horovod](https://horovod.readthedocs.io/en/stable/summary_include.html) using Habana Gaudi AI processors.\n",
    "\n",
    "Horovod is a distributed deep learning training framework, which can achieve high scaling efficiency. Using Horovod, Users can distribute the training of models between multiple Gaudi devices and also between multiple servers.\n",
    "\n",
    "To demonstrate distributed training, we will train a simple Keras model on the [MNIST database](http://yann.lecun.com/exdb/mnist/).\n",
    "\n",
    "You can find more information on distributed training using TensorFlow and Horovod on [Gaudi TensorFlow Scaling Guide](https://docs.habana.ai/en/latest/Tensorflow_Scaling_Guide/TensorFlow_Gaudi_Scaling_Guide.html#horovod-based-scaling-of-gaudi-on-tensorflow)."
   ]
  },
  {
   "cell_type": "markdown",
   "id": "9af116d5",
   "metadata": {},
   "source": [
    "## Start MPI engines in Jupiter notebook\n",
    "MPI is used for coordinating work between processes in Horovod. You can find a simple example of how to initialize MPI and run the model with Horovod using the command \"mpirun\" [here](https://github.com/HabanaAI/Model-References/blob/master/TensorFlow/examples/hello_world/run_hvd_8gaudi.sh).\n",
    "\n",
    "You can find more information on the [Open MPI website](https://www.open-mpi.org/).\n",
    "\n",
    "[ipyparallel](https://ipyparallel.readthedocs.io/en/latest/) and [mpi4py](https://mpi4py.readthedocs.io/en/stable/) are required to use MPI from the Jupiter notebook, If they have not been installed, install them using the following command:"
   ]
  },
  {
   "cell_type": "code",
   "execution_count": 1,
   "id": "b87dbc0b",
   "metadata": {},
   "outputs": [],
   "source": [
    "# uncomment next line if ipyparallel is not installed\n",
    "# !pip install jupyter\n",
    "# !pip install ipyparallel\n",
    "# !pip install mpi4py"
   ]
  },
  {
   "cell_type": "markdown",
   "id": "9b0efd39-04b6-4029-94d6-4c66d834a0c8",
   "metadata": {},
   "source": [
    "First, import the ipyparallel package, and then start the MPI engines.\n",
    "\n",
    "In our example, we will start 8 MPI engines to use all the 8 Gaudi devices in our machine."
   ]
  },
  {
   "cell_type": "code",
   "execution_count": 2,
   "id": "8f719f05-bd8a-4785-b15d-cc1c010cf6d4",
   "metadata": {},
   "outputs": [
    {
     "name": "stdout",
     "output_type": "stream",
     "text": [
      "Starting 8 engines with <class 'ipyparallel.cluster.launcher.MPIEngineSetLauncher'>\n"
     ]
    },
    {
     "data": {
      "application/vnd.jupyter.widget-view+json": {
       "model_id": "480d89e4e3ae4fce87f4acf334785b0e",
       "version_major": 2,
       "version_minor": 0
      },
      "text/plain": [
       "  0%|          | 0/8 [00:00<?, ?engine/s]"
      ]
     },
     "metadata": {},
     "output_type": "display_data"
    }
   ],
   "source": [
    "import ipyparallel as ipp\n",
    "import os\n",
    "os.environ[\"OMPI_ALLOW_RUN_AS_ROOT\"] = \"1\"\n",
    "os.environ[\"OMPI_ALLOW_RUN_AS_ROOT_CONFIRM\"] = \"1\"\n",
    "\n",
    "n_hpu=8\n",
    "cluster = ipp.Cluster(engines='mpi', n=n_hpu)\n",
    "client = cluster.start_and_connect_sync()"
   ]
  },
  {
   "cell_type": "markdown",
   "id": "9336b4b8-430d-4fc8-9c52-21a1928cd4e7",
   "metadata": {},
   "source": [
    "## Execute Python commands in parallel\n",
    "The [%%px cell magic](https://ipython.org/ipython-doc/3/parallel/magics.html#px-cell-magic) is used to execute Python command on all the MPI engines in parallel."
   ]
  },
  {
   "cell_type": "markdown",
   "id": "8934cc10-c048-442a-9ce0-4cd4c07addd8",
   "metadata": {},
   "source": [
    "## Import TensorFlow\n",
    "The MPI engines have been started. The following scripts will import the TensorFlow library in each engine in parallel."
   ]
  },
  {
   "cell_type": "code",
   "execution_count": 3,
   "id": "e688d732",
   "metadata": {},
   "outputs": [],
   "source": [
    "%%px\n",
    "import tensorflow as tf"
   ]
  },
  {
   "cell_type": "markdown",
   "id": "f6e1947b",
   "metadata": {},
   "source": [
    "## Import and enable Habana TensorFlow module\n",
    "Let’s enable Gaudi devices by loading the Habana module:"
   ]
  },
  {
   "cell_type": "code",
   "execution_count": 4,
   "id": "86b64f59",
   "metadata": {},
   "outputs": [
    {
     "data": {
      "text/plain": [
       "[stderr:4] WARNING:/usr/local/lib/python3.8/dist-packages/habana_frameworks/tensorflow/library_loader.py:Habana-TensorFlow(1.2.0) and Habanalabs Driver(1.3.0-e793625) versions differ!\n"
      ]
     },
     "metadata": {},
     "output_type": "display_data"
    },
    {
     "data": {
      "text/plain": [
       "[stderr:5] WARNING:/usr/local/lib/python3.8/dist-packages/habana_frameworks/tensorflow/library_loader.py:Habana-TensorFlow(1.2.0) and Habanalabs Driver(1.3.0-e793625) versions differ!\n"
      ]
     },
     "metadata": {},
     "output_type": "display_data"
    },
    {
     "data": {
      "text/plain": [
       "[stderr:0] WARNING:/usr/local/lib/python3.8/dist-packages/habana_frameworks/tensorflow/library_loader.py:Habana-TensorFlow(1.2.0) and Habanalabs Driver(1.3.0-e793625) versions differ!\n"
      ]
     },
     "metadata": {},
     "output_type": "display_data"
    },
    {
     "data": {
      "text/plain": [
       "[stderr:7] WARNING:/usr/local/lib/python3.8/dist-packages/habana_frameworks/tensorflow/library_loader.py:Habana-TensorFlow(1.2.0) and Habanalabs Driver(1.3.0-e793625) versions differ!\n"
      ]
     },
     "metadata": {},
     "output_type": "display_data"
    },
    {
     "data": {
      "text/plain": [
       "[stderr:3] WARNING:/usr/local/lib/python3.8/dist-packages/habana_frameworks/tensorflow/library_loader.py:Habana-TensorFlow(1.2.0) and Habanalabs Driver(1.3.0-e793625) versions differ!\n"
      ]
     },
     "metadata": {},
     "output_type": "display_data"
    },
    {
     "data": {
      "application/vnd.jupyter.widget-view+json": {
       "model_id": "8af4dc62c4d0484ea1e55cecb64acb15",
       "version_major": 2,
       "version_minor": 0
      },
      "text/plain": [
       "%px:   0%|          | 0/8 [00:00<?, ?tasks/s]"
      ]
     },
     "metadata": {},
     "output_type": "display_data"
    },
    {
     "data": {
      "text/plain": [
       "[stderr:1] WARNING:/usr/local/lib/python3.8/dist-packages/habana_frameworks/tensorflow/library_loader.py:Habana-TensorFlow(1.2.0) and Habanalabs Driver(1.3.0-e793625) versions differ!\n"
      ]
     },
     "metadata": {},
     "output_type": "display_data"
    },
    {
     "data": {
      "text/plain": [
       "[stderr:2] WARNING:/usr/local/lib/python3.8/dist-packages/habana_frameworks/tensorflow/library_loader.py:Habana-TensorFlow(1.2.0) and Habanalabs Driver(1.3.0-e793625) versions differ!\n"
      ]
     },
     "metadata": {},
     "output_type": "display_data"
    },
    {
     "data": {
      "text/plain": [
       "[stderr:6] WARNING:/usr/local/lib/python3.8/dist-packages/habana_frameworks/tensorflow/library_loader.py:Habana-TensorFlow(1.2.0) and Habanalabs Driver(1.3.0-e793625) versions differ!\n"
      ]
     },
     "metadata": {},
     "output_type": "display_data"
    }
   ],
   "source": [
    "%%px\n",
    "from habana_frameworks.tensorflow import load_habana_module\n",
    "load_habana_module()"
   ]
  },
  {
   "cell_type": "markdown",
   "id": "abc547e9",
   "metadata": {},
   "source": [
    "## Import Horovod and get it ready for distributed training"
   ]
  },
  {
   "cell_type": "code",
   "execution_count": 5,
   "id": "5b59d9e4",
   "metadata": {},
   "outputs": [
    {
     "data": {
      "text/plain": [
       "[stdout:6] Using custom Horovod, path: /usr/local/lib/python3.8/dist-packages/horovod/tensorflow/mpi_lib.cpython-38-x86_64-linux-gnu.so\n"
      ]
     },
     "metadata": {},
     "output_type": "display_data"
    },
    {
     "data": {
      "text/plain": [
       "[stdout:2] Using custom Horovod, path: /usr/local/lib/python3.8/dist-packages/horovod/tensorflow/mpi_lib.cpython-38-x86_64-linux-gnu.so\n"
      ]
     },
     "metadata": {},
     "output_type": "display_data"
    },
    {
     "data": {
      "text/plain": [
       "[stdout:0] Using custom Horovod, path: /usr/local/lib/python3.8/dist-packages/horovod/tensorflow/mpi_lib.cpython-38-x86_64-linux-gnu.so\n"
      ]
     },
     "metadata": {},
     "output_type": "display_data"
    },
    {
     "data": {
      "text/plain": [
       "[stdout:5] Using custom Horovod, path: /usr/local/lib/python3.8/dist-packages/horovod/tensorflow/mpi_lib.cpython-38-x86_64-linux-gnu.so\n"
      ]
     },
     "metadata": {},
     "output_type": "display_data"
    },
    {
     "data": {
      "text/plain": [
       "[stdout:1] Using custom Horovod, path: /usr/local/lib/python3.8/dist-packages/horovod/tensorflow/mpi_lib.cpython-38-x86_64-linux-gnu.so\n"
      ]
     },
     "metadata": {},
     "output_type": "display_data"
    },
    {
     "data": {
      "text/plain": [
       "[stdout:4] Using custom Horovod, path: /usr/local/lib/python3.8/dist-packages/horovod/tensorflow/mpi_lib.cpython-38-x86_64-linux-gnu.so\n"
      ]
     },
     "metadata": {},
     "output_type": "display_data"
    },
    {
     "data": {
      "text/plain": [
       "[stdout:7] Using custom Horovod, path: /usr/local/lib/python3.8/dist-packages/horovod/tensorflow/mpi_lib.cpython-38-x86_64-linux-gnu.so\n"
      ]
     },
     "metadata": {},
     "output_type": "display_data"
    },
    {
     "data": {
      "text/plain": [
       "[stdout:3] Using custom Horovod, path: /usr/local/lib/python3.8/dist-packages/horovod/tensorflow/mpi_lib.cpython-38-x86_64-linux-gnu.so\n"
      ]
     },
     "metadata": {},
     "output_type": "display_data"
    }
   ],
   "source": [
    "%%px\n",
    "import horovod.tensorflow.keras as hvd\n",
    "## Initialize Horovod\n",
    "hvd.init()"
   ]
  },
  {
   "cell_type": "markdown",
   "id": "8e20c281",
   "metadata": {},
   "source": [
    "## Download the MNIST database\n",
    "We will download the MNIST database only in the first process on each node, and save it locally. Once downloaded, we partition the data evenly among all workers."
   ]
  },
  {
   "cell_type": "code",
   "execution_count": 6,
   "id": "7a0b1b9d",
   "metadata": {},
   "outputs": [
    {
     "data": {
      "text/plain": [
       "[stdout:0] Downloading data from https://storage.googleapis.com/tensorflow/tf-keras-datasets/mnist.npz\n",
       "11493376/11490434 [==============================] - 1s 0us/step\n",
       "11501568/11490434 [==============================] - 1s 0us/step\n"
      ]
     },
     "metadata": {},
     "output_type": "display_data"
    },
    {
     "data": {
      "text/plain": [
       "[stderr:2] 2022-01-22 08:09:27.737402: I tensorflow/core/platform/cpu_feature_guard.cc:151] This TensorFlow binary is optimized with oneAPI Deep Neural Network Library (oneDNN) to use the following CPU instructions in performance-critical operations:  AVX2 AVX512F FMA\n",
       "To enable them in other operations, rebuild TensorFlow with the appropriate compiler flags.\n",
       "2022-01-22 08:09:29.205166: W /home/jenkins/workspace/cdsoftwarebuilder/create-tensorflow-module---bpt-d/tensorflow-training/habana_device/habana_device.cpp:182] HPU initialization done for library version 1.2.0_c6aea18b_tf2.7.0\n"
      ]
     },
     "metadata": {},
     "output_type": "display_data"
    },
    {
     "data": {
      "text/plain": [
       "[stderr:6] 2022-01-22 08:09:27.736178: I tensorflow/core/platform/cpu_feature_guard.cc:151] This TensorFlow binary is optimized with oneAPI Deep Neural Network Library (oneDNN) to use the following CPU instructions in performance-critical operations:  AVX2 AVX512F FMA\n",
       "To enable them in other operations, rebuild TensorFlow with the appropriate compiler flags.\n",
       "2022-01-22 08:09:29.481811: W /home/jenkins/workspace/cdsoftwarebuilder/create-tensorflow-module---bpt-d/tensorflow-training/habana_device/habana_device.cpp:182] HPU initialization done for library version 1.2.0_c6aea18b_tf2.7.0\n"
      ]
     },
     "metadata": {},
     "output_type": "display_data"
    },
    {
     "data": {
      "text/plain": [
       "[stderr:4] 2022-01-22 08:09:27.736167: I tensorflow/core/platform/cpu_feature_guard.cc:151] This TensorFlow binary is optimized with oneAPI Deep Neural Network Library (oneDNN) to use the following CPU instructions in performance-critical operations:  AVX2 AVX512F FMA\n",
       "To enable them in other operations, rebuild TensorFlow with the appropriate compiler flags.\n",
       "2022-01-22 08:09:29.491051: W /home/jenkins/workspace/cdsoftwarebuilder/create-tensorflow-module---bpt-d/tensorflow-training/habana_device/habana_device.cpp:182] HPU initialization done for library version 1.2.0_c6aea18b_tf2.7.0\n"
      ]
     },
     "metadata": {},
     "output_type": "display_data"
    },
    {
     "data": {
      "application/vnd.jupyter.widget-view+json": {
       "model_id": "b963fa2f934e4eb08369ca62c8c8a06e",
       "version_major": 2,
       "version_minor": 0
      },
      "text/plain": [
       "%px:   0%|          | 0/8 [00:00<?, ?tasks/s]"
      ]
     },
     "metadata": {},
     "output_type": "display_data"
    },
    {
     "data": {
      "text/plain": [
       "[stderr:7] 2022-01-22 08:09:27.738345: I tensorflow/core/platform/cpu_feature_guard.cc:151] This TensorFlow binary is optimized with oneAPI Deep Neural Network Library (oneDNN) to use the following CPU instructions in performance-critical operations:  AVX2 AVX512F FMA\n",
       "To enable them in other operations, rebuild TensorFlow with the appropriate compiler flags.\n",
       "2022-01-22 08:09:29.522639: W /home/jenkins/workspace/cdsoftwarebuilder/create-tensorflow-module---bpt-d/tensorflow-training/habana_device/habana_device.cpp:182] HPU initialization done for library version 1.2.0_c6aea18b_tf2.7.0\n"
      ]
     },
     "metadata": {},
     "output_type": "display_data"
    },
    {
     "data": {
      "text/plain": [
       "[stderr:5] 2022-01-22 08:09:27.738608: I tensorflow/core/platform/cpu_feature_guard.cc:151] This TensorFlow binary is optimized with oneAPI Deep Neural Network Library (oneDNN) to use the following CPU instructions in performance-critical operations:  AVX2 AVX512F FMA\n",
       "To enable them in other operations, rebuild TensorFlow with the appropriate compiler flags.\n",
       "2022-01-22 08:09:29.544330: W /home/jenkins/workspace/cdsoftwarebuilder/create-tensorflow-module---bpt-d/tensorflow-training/habana_device/habana_device.cpp:182] HPU initialization done for library version 1.2.0_c6aea18b_tf2.7.0\n"
      ]
     },
     "metadata": {},
     "output_type": "display_data"
    },
    {
     "data": {
      "text/plain": [
       "[stderr:3] 2022-01-22 08:09:27.736339: I tensorflow/core/platform/cpu_feature_guard.cc:151] This TensorFlow binary is optimized with oneAPI Deep Neural Network Library (oneDNN) to use the following CPU instructions in performance-critical operations:  AVX2 AVX512F FMA\n",
       "To enable them in other operations, rebuild TensorFlow with the appropriate compiler flags.\n",
       "2022-01-22 08:09:29.568677: W /home/jenkins/workspace/cdsoftwarebuilder/create-tensorflow-module---bpt-d/tensorflow-training/habana_device/habana_device.cpp:182] HPU initialization done for library version 1.2.0_c6aea18b_tf2.7.0\n"
      ]
     },
     "metadata": {},
     "output_type": "display_data"
    },
    {
     "data": {
      "text/plain": [
       "[stderr:1] 2022-01-22 08:09:27.730682: I tensorflow/core/platform/cpu_feature_guard.cc:151] This TensorFlow binary is optimized with oneAPI Deep Neural Network Library (oneDNN) to use the following CPU instructions in performance-critical operations:  AVX2 AVX512F FMA\n",
       "To enable them in other operations, rebuild TensorFlow with the appropriate compiler flags.\n",
       "2022-01-22 08:09:29.575768: W /home/jenkins/workspace/cdsoftwarebuilder/create-tensorflow-module---bpt-d/tensorflow-training/habana_device/habana_device.cpp:182] HPU initialization done for library version 1.2.0_c6aea18b_tf2.7.0\n"
      ]
     },
     "metadata": {},
     "output_type": "display_data"
    },
    {
     "data": {
      "text/plain": [
       "[stderr:0] 2022-01-22 08:09:28.699532: I tensorflow/core/platform/cpu_feature_guard.cc:151] This TensorFlow binary is optimized with oneAPI Deep Neural Network Library (oneDNN) to use the following CPU instructions in performance-critical operations:  AVX2 AVX512F FMA\n",
       "To enable them in other operations, rebuild TensorFlow with the appropriate compiler flags.\n",
       "2022-01-22 08:09:30.369017: W /home/jenkins/workspace/cdsoftwarebuilder/create-tensorflow-module---bpt-d/tensorflow-training/habana_device/habana_device.cpp:182] HPU initialization done for library version 1.2.0_c6aea18b_tf2.7.0\n"
      ]
     },
     "metadata": {},
     "output_type": "display_data"
    }
   ],
   "source": [
    "%%px\n",
    "\n",
    "# Ensure only 1 process downloads the data on each node\n",
    "if hvd.local_rank() == 0:\n",
    "    (x_train, y_train), (x_test, y_test) = tf.keras.datasets.mnist.load_data()\n",
    "    hvd.broadcast(0, 0)\n",
    "else:\n",
    "    hvd.broadcast(0, 0)\n",
    "    (x_train, y_train), (x_test, y_test) = tf.keras.datasets.mnist.load_data()\n",
    "\n",
    "# Data partition for different workers\n",
    "num_pics_per_rank = x_train.shape[0] // hvd.size()\n",
    "pic_begin = num_pics_per_rank * hvd.rank()\n",
    "pic_end = pic_begin + num_pics_per_rank\n",
    "x_train = x_train[pic_begin:pic_end,]\n",
    "y_train = y_train[pic_begin:pic_end,]\n",
    "\n",
    "x_train, x_test = x_train / 255.0, x_test / 255.0\n"
   ]
  },
  {
   "cell_type": "markdown",
   "id": "04b80ee8",
   "metadata": {},
   "source": [
    "## Create a model for training\n",
    "Create a simple model, wrap the optimizer with Horovod's distributedOptimizer. The distributedOptimizer averages gradients and applies gradients to each worker."
   ]
  },
  {
   "cell_type": "code",
   "execution_count": 7,
   "id": "2cbfa7fb",
   "metadata": {},
   "outputs": [],
   "source": [
    "%%px\n",
    "model = tf.keras.models.Sequential([\n",
    "    tf.keras.layers.Flatten(input_shape=(28, 28)),\n",
    "    tf.keras.layers.Dense(10),\n",
    "])\n",
    "loss = tf.keras.losses.SparseCategoricalCrossentropy(from_logits=True)\n",
    "\n",
    "# Using hvd.size()(number of workers) to scale learning rate and wrapping\n",
    "# optimizer with Distributed optimizer class provided by horovod.\n",
    "optimizer = tf.keras.optimizers.legacy.SGD(learning_rate=0.01*hvd.size())\n",
    "if hvd.size() > 1:\n",
    "    optimizer = hvd.DistributedOptimizer(optimizer)\n",
    "\n",
    "callbacks = [\n",
    "    # Horovod: broadcast initial variable states from rank0 to all other processes.\n",
    "    # This is necessary to ensure consistent initialization of all workers when\n",
    "    # training is started with random weights or restored from a checkpoint.\n",
    "    hvd.callbacks.BroadcastGlobalVariablesCallback(0),\n",
    "]"
   ]
  },
  {
   "cell_type": "markdown",
   "id": "69230b16",
   "metadata": {
    "tags": []
   },
   "source": [
    "## Compile and train the model\n",
    "Traing using model.fit. Each MPI engine will start the training on a different Gaudi device in parallel."
   ]
  },
  {
   "cell_type": "code",
   "execution_count": 8,
   "id": "0d5602ac",
   "metadata": {},
   "outputs": [
    {
     "data": {
      "application/vnd.jupyter.widget-view+json": {
       "model_id": "968d86a233ff4ec9909cc167d26b417d",
       "version_major": 2,
       "version_minor": 0
      },
      "text/plain": [
       "%px:   0%|          | 0/8 [00:00<?, ?tasks/s]"
      ]
     },
     "metadata": {},
     "output_type": "display_data"
    },
    {
     "data": {
      "text/plain": [
       "[stdout:5] 59/59 [==============================] - 3s 8ms/step - loss: 1.2938 - accuracy: 0.6984\n"
      ]
     },
     "metadata": {},
     "output_type": "display_data"
    },
    {
     "data": {
      "text/plain": [
       "[stdout:1] 59/59 [==============================] - 3s 8ms/step - loss: 1.2891 - accuracy: 0.6927\n"
      ]
     },
     "metadata": {},
     "output_type": "display_data"
    },
    {
     "data": {
      "text/plain": [
       "[stdout:7] 59/59 [==============================] - 3s 8ms/step - loss: 1.2486 - accuracy: 0.7231\n"
      ]
     },
     "metadata": {},
     "output_type": "display_data"
    },
    {
     "data": {
      "text/plain": [
       "[stdout:6] 59/59 [==============================] - 3s 8ms/step - loss: 1.2868 - accuracy: 0.6973\n"
      ]
     },
     "metadata": {},
     "output_type": "display_data"
    },
    {
     "data": {
      "text/plain": [
       "[stdout:3] 59/59 [==============================] - 3s 8ms/step - loss: 1.2819 - accuracy: 0.6929\n"
      ]
     },
     "metadata": {},
     "output_type": "display_data"
    },
    {
     "data": {
      "text/plain": [
       "[stdout:4] 59/59 [==============================] - 3s 8ms/step - loss: 1.3169 - accuracy: 0.6909\n"
      ]
     },
     "metadata": {},
     "output_type": "display_data"
    },
    {
     "data": {
      "text/plain": [
       "[stdout:0] 59/59 [==============================] - 3s 8ms/step - loss: 1.2692 - accuracy: 0.6999\n"
      ]
     },
     "metadata": {},
     "output_type": "display_data"
    },
    {
     "data": {
      "text/plain": [
       "[stdout:2] 59/59 [==============================] - 3s 8ms/step - loss: 1.2875 - accuracy: 0.6993\n"
      ]
     },
     "metadata": {},
     "output_type": "display_data"
    },
    {
     "data": {
      "text/plain": [
       "[stderr:0] WARNING:tensorflow:Callback method `on_train_batch_end` is slow compared to the batch time (batch time: 0.0048s vs `on_train_batch_end` time: 0.0221s). Check your callbacks.\n"
      ]
     },
     "metadata": {},
     "output_type": "display_data"
    },
    {
     "data": {
      "text/plain": [
       "[stderr:5] WARNING:tensorflow:Callback method `on_train_batch_end` is slow compared to the batch time (batch time: 0.0050s vs `on_train_batch_end` time: 0.0214s). Check your callbacks.\n"
      ]
     },
     "metadata": {},
     "output_type": "display_data"
    },
    {
     "data": {
      "text/plain": [
       "[stderr:4] WARNING:tensorflow:Callback method `on_train_batch_end` is slow compared to the batch time (batch time: 0.0049s vs `on_train_batch_end` time: 0.0204s). Check your callbacks.\n"
      ]
     },
     "metadata": {},
     "output_type": "display_data"
    },
    {
     "data": {
      "text/plain": [
       "[stderr:1] WARNING:tensorflow:Callback method `on_train_batch_end` is slow compared to the batch time (batch time: 0.0051s vs `on_train_batch_end` time: 0.0231s). Check your callbacks.\n"
      ]
     },
     "metadata": {},
     "output_type": "display_data"
    },
    {
     "data": {
      "text/plain": [
       "[stderr:2] WARNING:tensorflow:Callback method `on_train_batch_end` is slow compared to the batch time (batch time: 0.0048s vs `on_train_batch_end` time: 0.0223s). Check your callbacks.\n"
      ]
     },
     "metadata": {},
     "output_type": "display_data"
    },
    {
     "data": {
      "text/plain": [
       "[stderr:7] WARNING:tensorflow:Callback method `on_train_batch_end` is slow compared to the batch time (batch time: 0.0049s vs `on_train_batch_end` time: 0.0225s). Check your callbacks.\n"
      ]
     },
     "metadata": {},
     "output_type": "display_data"
    },
    {
     "data": {
      "text/plain": [
       "[stderr:6] WARNING:tensorflow:Callback method `on_train_batch_end` is slow compared to the batch time (batch time: 0.0050s vs `on_train_batch_end` time: 0.0211s). Check your callbacks.\n"
      ]
     },
     "metadata": {},
     "output_type": "display_data"
    },
    {
     "data": {
      "text/plain": [
       "[stderr:3] WARNING:tensorflow:Callback method `on_train_batch_end` is slow compared to the batch time (batch time: 0.0050s vs `on_train_batch_end` time: 0.0224s). Check your callbacks.\n"
      ]
     },
     "metadata": {},
     "output_type": "display_data"
    },
    {
     "data": {
      "text/plain": [
       "\u001b[0;31mOut[6:6]: \u001b[0m<keras.callbacks.History at 0x7f1c0e034ac0>"
      ]
     },
     "metadata": {
      "after": null,
      "completed": null,
      "data": {},
      "engine_id": 6,
      "engine_uuid": "5c3e7c3d-5c83cca4c16d33e5e2073d6a",
      "error": null,
      "execute_input": "model.compile(optimizer=optimizer, loss=loss, metrics=['accuracy'])\nmodel.fit(x_train, y_train, epochs=1, batch_size=128, callbacks=callbacks)\n",
      "execute_result": {
       "data": {
        "text/plain": "<keras.callbacks.History at 0x7f1c0e034ac0>"
       },
       "execution_count": 6,
       "metadata": {}
      },
      "follow": null,
      "msg_id": null,
      "outputs": [],
      "received": null,
      "started": null,
      "status": null,
      "stderr": "WARNING:tensorflow:Callback method `on_train_batch_end` is slow compared to the batch time (batch time: 0.0050s vs `on_train_batch_end` time: 0.0211s). Check your callbacks.\n",
      "stdout": "59/59 [==============================] - 3s 8ms/step - loss: 1.2868 - accuracy: 0.6973\n",
      "submitted": "2022-01-22T08:09:30.911578Z"
     },
     "output_type": "display_data"
    },
    {
     "data": {
      "text/plain": [
       "\u001b[0;31mOut[3:6]: \u001b[0m<keras.callbacks.History at 0x7fd480885760>"
      ]
     },
     "metadata": {
      "after": null,
      "completed": null,
      "data": {},
      "engine_id": 3,
      "engine_uuid": "5361ba18-35a70572278ce0d251f96851",
      "error": null,
      "execute_input": "model.compile(optimizer=optimizer, loss=loss, metrics=['accuracy'])\nmodel.fit(x_train, y_train, epochs=1, batch_size=128, callbacks=callbacks)\n",
      "execute_result": {
       "data": {
        "text/plain": "<keras.callbacks.History at 0x7fd480885760>"
       },
       "execution_count": 6,
       "metadata": {}
      },
      "follow": null,
      "msg_id": null,
      "outputs": [],
      "received": null,
      "started": null,
      "status": null,
      "stderr": "WARNING:tensorflow:Callback method `on_train_batch_end` is slow compared to the batch time (batch time: 0.0050s vs `on_train_batch_end` time: 0.0224s). Check your callbacks.\n",
      "stdout": "59/59 [==============================] - 3s 8ms/step - loss: 1.2819 - accuracy: 0.6929\n",
      "submitted": "2022-01-22T08:09:30.910950Z"
     },
     "output_type": "display_data"
    },
    {
     "data": {
      "text/plain": [
       "\u001b[0;31mOut[4:6]: \u001b[0m<keras.callbacks.History at 0x7f5864a46760>"
      ]
     },
     "metadata": {
      "after": [],
      "completed": "2022-01-22T08:09:33.574865Z",
      "data": {},
      "engine_id": 4,
      "engine_uuid": "962c5898-8ac2906548a9d1651371bb47",
      "error": null,
      "execute_input": "model.compile(optimizer=optimizer, loss=loss, metrics=['accuracy'])\nmodel.fit(x_train, y_train, epochs=1, batch_size=128, callbacks=callbacks)\n",
      "execute_result": {
       "data": {
        "text/plain": "<keras.callbacks.History at 0x7f5864a46760>"
       },
       "execution_count": 6,
       "metadata": {}
      },
      "follow": [],
      "is_broadcast": false,
      "is_coalescing": false,
      "msg_id": "064817f1-ae6b8e59cac4430954621a29_18257_45",
      "outputs": [],
      "received": "2022-01-22T08:09:33.585798Z",
      "started": "2022-01-22T08:09:30.914802Z",
      "status": "ok",
      "stderr": "WARNING:tensorflow:Callback method `on_train_batch_end` is slow compared to the batch time (batch time: 0.0049s vs `on_train_batch_end` time: 0.0204s). Check your callbacks.\n",
      "stdout": "59/59 [==============================] - 3s 8ms/step - loss: 1.3169 - accuracy: 0.6909\n",
      "submitted": "2022-01-22T08:09:30.911032Z"
     },
     "output_type": "display_data"
    },
    {
     "data": {
      "text/plain": [
       "\u001b[0;31mOut[1:6]: \u001b[0m<keras.callbacks.History at 0x7f1eab38a760>"
      ]
     },
     "metadata": {
      "after": null,
      "completed": null,
      "data": {},
      "engine_id": 1,
      "engine_uuid": "cb130789-d6cc5d134b864c9432c3d2cf",
      "error": null,
      "execute_input": "model.compile(optimizer=optimizer, loss=loss, metrics=['accuracy'])\nmodel.fit(x_train, y_train, epochs=1, batch_size=128, callbacks=callbacks)\n",
      "execute_result": {
       "data": {
        "text/plain": "<keras.callbacks.History at 0x7f1eab38a760>"
       },
       "execution_count": 6,
       "metadata": {}
      },
      "follow": null,
      "msg_id": null,
      "outputs": [],
      "received": null,
      "started": null,
      "status": null,
      "stderr": "WARNING:tensorflow:Callback method `on_train_batch_end` is slow compared to the batch time (batch time: 0.0051s vs `on_train_batch_end` time: 0.0231s). Check your callbacks.\n",
      "stdout": "59/59 [==============================] - 3s 8ms/step - loss: 1.2891 - accuracy: 0.6927\n",
      "submitted": "2022-01-22T08:09:30.909039Z"
     },
     "output_type": "display_data"
    },
    {
     "data": {
      "text/plain": [
       "\u001b[0;31mOut[2:6]: \u001b[0m<keras.callbacks.History at 0x7f5bbb1d7ca0>"
      ]
     },
     "metadata": {
      "after": [],
      "completed": "2022-01-22T08:09:33.576040Z",
      "data": {},
      "engine_id": 2,
      "engine_uuid": "65a2c2d1-6e0f770694408be1c330f36a",
      "error": null,
      "execute_input": "model.compile(optimizer=optimizer, loss=loss, metrics=['accuracy'])\nmodel.fit(x_train, y_train, epochs=1, batch_size=128, callbacks=callbacks)\n",
      "execute_result": {
       "data": {
        "text/plain": "<keras.callbacks.History at 0x7f5bbb1d7ca0>"
       },
       "execution_count": 6,
       "metadata": {}
      },
      "follow": [],
      "is_broadcast": false,
      "is_coalescing": false,
      "msg_id": "064817f1-ae6b8e59cac4430954621a29_18257_43",
      "outputs": [],
      "received": "2022-01-22T08:09:33.592103Z",
      "started": "2022-01-22T08:09:30.914414Z",
      "status": "ok",
      "stderr": "WARNING:tensorflow:Callback method `on_train_batch_end` is slow compared to the batch time (batch time: 0.0048s vs `on_train_batch_end` time: 0.0223s). Check your callbacks.\n",
      "stdout": "59/59 [==============================] - 3s 8ms/step - loss: 1.2875 - accuracy: 0.6993\n",
      "submitted": "2022-01-22T08:09:30.909129Z"
     },
     "output_type": "display_data"
    },
    {
     "data": {
      "text/plain": [
       "\u001b[0;31mOut[0:6]: \u001b[0m<keras.callbacks.History at 0x7efbf2daf7c0>"
      ]
     },
     "metadata": {
      "after": [],
      "completed": "2022-01-22T08:09:33.576441Z",
      "data": {},
      "engine_id": 0,
      "engine_uuid": "1950f6f3-cd1bbac8814e66d4e6a5b3d0",
      "error": null,
      "execute_input": "model.compile(optimizer=optimizer, loss=loss, metrics=['accuracy'])\nmodel.fit(x_train, y_train, epochs=1, batch_size=128, callbacks=callbacks)\n",
      "execute_result": {
       "data": {
        "text/plain": "<keras.callbacks.History at 0x7efbf2daf7c0>"
       },
       "execution_count": 6,
       "metadata": {}
      },
      "follow": [],
      "is_broadcast": false,
      "is_coalescing": false,
      "msg_id": "064817f1-ae6b8e59cac4430954621a29_18257_41",
      "outputs": [],
      "received": "2022-01-22T08:09:33.593054Z",
      "started": "2022-01-22T08:09:30.910136Z",
      "status": "ok",
      "stderr": "WARNING:tensorflow:Callback method `on_train_batch_end` is slow compared to the batch time (batch time: 0.0048s vs `on_train_batch_end` time: 0.0221s). Check your callbacks.\n",
      "stdout": "59/59 [==============================] - 3s 8ms/step - loss: 1.2692 - accuracy: 0.6999\n",
      "submitted": "2022-01-22T08:09:30.907971Z"
     },
     "output_type": "display_data"
    },
    {
     "data": {
      "text/plain": [
       "\u001b[0;31mOut[5:6]: \u001b[0m<keras.callbacks.History at 0x7f472e92d760>"
      ]
     },
     "metadata": {
      "after": [],
      "completed": "2022-01-22T08:09:33.577456Z",
      "data": {},
      "engine_id": 5,
      "engine_uuid": "2eabf701-3c46e8f43d4da0921d24dd12",
      "error": null,
      "execute_input": "model.compile(optimizer=optimizer, loss=loss, metrics=['accuracy'])\nmodel.fit(x_train, y_train, epochs=1, batch_size=128, callbacks=callbacks)\n",
      "execute_result": {
       "data": {
        "text/plain": "<keras.callbacks.History at 0x7f472e92d760>"
       },
       "execution_count": 6,
       "metadata": {}
      },
      "follow": [],
      "is_broadcast": false,
      "is_coalescing": false,
      "msg_id": "064817f1-ae6b8e59cac4430954621a29_18257_46",
      "outputs": [],
      "received": "2022-01-22T08:09:33.595158Z",
      "started": "2022-01-22T08:09:30.915884Z",
      "status": "ok",
      "stderr": "WARNING:tensorflow:Callback method `on_train_batch_end` is slow compared to the batch time (batch time: 0.0050s vs `on_train_batch_end` time: 0.0214s). Check your callbacks.\n",
      "stdout": "59/59 [==============================] - 3s 8ms/step - loss: 1.2938 - accuracy: 0.6984\n",
      "submitted": "2022-01-22T08:09:30.911242Z"
     },
     "output_type": "display_data"
    },
    {
     "data": {
      "text/plain": [
       "\u001b[0;31mOut[7:6]: \u001b[0m<keras.callbacks.History at 0x7f5bd0885970>"
      ]
     },
     "metadata": {
      "after": [],
      "completed": "2022-01-22T08:09:33.577572Z",
      "data": {},
      "engine_id": 7,
      "engine_uuid": "c4b0b6a1-4c3fa67c2adb118eb85019c7",
      "error": null,
      "execute_input": "model.compile(optimizer=optimizer, loss=loss, metrics=['accuracy'])\nmodel.fit(x_train, y_train, epochs=1, batch_size=128, callbacks=callbacks)\n",
      "execute_result": {
       "data": {
        "text/plain": "<keras.callbacks.History at 0x7f5bd0885970>"
       },
       "execution_count": 6,
       "metadata": {}
      },
      "follow": [],
      "is_broadcast": false,
      "is_coalescing": false,
      "msg_id": "064817f1-ae6b8e59cac4430954621a29_18257_48",
      "outputs": [],
      "received": "2022-01-22T08:09:33.595750Z",
      "started": "2022-01-22T08:09:30.915536Z",
      "status": "ok",
      "stderr": "WARNING:tensorflow:Callback method `on_train_batch_end` is slow compared to the batch time (batch time: 0.0049s vs `on_train_batch_end` time: 0.0225s). Check your callbacks.\n",
      "stdout": "59/59 [==============================] - 3s 8ms/step - loss: 1.2486 - accuracy: 0.7231\n",
      "submitted": "2022-01-22T08:09:30.911653Z"
     },
     "output_type": "display_data"
    }
   ],
   "source": [
    "%%px\n",
    "model.compile(optimizer=optimizer, loss=loss, metrics=['accuracy'])\n",
    "model.fit(x_train, y_train, epochs=1, batch_size=128, callbacks=callbacks)"
   ]
  },
  {
   "cell_type": "markdown",
   "id": "fd3eb264",
   "metadata": {},
   "source": [
    "## Evaluate the model"
   ]
  },
  {
   "cell_type": "code",
   "execution_count": 9,
   "id": "87e59bab",
   "metadata": {},
   "outputs": [
    {
     "data": {
      "text/plain": [
       "[stdout:2] 313/313 [==============================] - 1s 3ms/step - loss: 0.8074 - accuracy: 0.8328\n"
      ]
     },
     "metadata": {},
     "output_type": "display_data"
    },
    {
     "data": {
      "text/plain": [
       "[stdout:1] 313/313 [==============================] - 1s 3ms/step - loss: 0.8074 - accuracy: 0.8328\n"
      ]
     },
     "metadata": {},
     "output_type": "display_data"
    },
    {
     "data": {
      "text/plain": [
       "[stdout:5] 313/313 [==============================] - 1s 3ms/step - loss: 0.8074 - accuracy: 0.8328\n"
      ]
     },
     "metadata": {},
     "output_type": "display_data"
    },
    {
     "data": {
      "text/plain": [
       "[stdout:7] 313/313 [==============================] - 1s 3ms/step - loss: 0.8074 - accuracy: 0.8328\n"
      ]
     },
     "metadata": {},
     "output_type": "display_data"
    },
    {
     "data": {
      "text/plain": [
       "[stdout:6] 313/313 [==============================] - 1s 3ms/step - loss: 0.8074 - accuracy: 0.8328\n"
      ]
     },
     "metadata": {},
     "output_type": "display_data"
    },
    {
     "data": {
      "text/plain": [
       "[stdout:3] 313/313 [==============================] - 1s 3ms/step - loss: 0.8074 - accuracy: 0.8328\n"
      ]
     },
     "metadata": {},
     "output_type": "display_data"
    },
    {
     "data": {
      "text/plain": [
       "[stdout:0] 313/313 [==============================] - 1s 3ms/step - loss: 0.8074 - accuracy: 0.8328\n"
      ]
     },
     "metadata": {},
     "output_type": "display_data"
    },
    {
     "data": {
      "text/plain": [
       "[stdout:4] 313/313 [==============================] - 1s 3ms/step - loss: 0.8074 - accuracy: 0.8328\n"
      ]
     },
     "metadata": {},
     "output_type": "display_data"
    },
    {
     "data": {
      "text/plain": [
       "\u001b[0;31mOut[2:7]: \u001b[0m[0.807358980178833, 0.8327999711036682]"
      ]
     },
     "metadata": {
      "after": null,
      "completed": null,
      "data": {},
      "engine_id": 2,
      "engine_uuid": "65a2c2d1-6e0f770694408be1c330f36a",
      "error": null,
      "execute_input": "model.evaluate(x_test, y_test)\n",
      "execute_result": {
       "data": {
        "text/plain": "[0.807358980178833, 0.8327999711036682]"
       },
       "execution_count": 7,
       "metadata": {}
      },
      "follow": null,
      "msg_id": null,
      "outputs": [],
      "received": null,
      "started": null,
      "status": null,
      "stderr": "",
      "stdout": "313/313 [==============================] - 1s 3ms/step - loss: 0.8074 - accuracy: 0.8328\n",
      "submitted": "2022-01-22T08:09:33.611375Z"
     },
     "output_type": "display_data"
    },
    {
     "data": {
      "text/plain": [
       "\u001b[0;31mOut[5:7]: \u001b[0m[0.807358980178833, 0.8327999711036682]"
      ]
     },
     "metadata": {
      "after": null,
      "completed": null,
      "data": {},
      "engine_id": 5,
      "engine_uuid": "2eabf701-3c46e8f43d4da0921d24dd12",
      "error": null,
      "execute_input": "model.evaluate(x_test, y_test)\n",
      "execute_result": {
       "data": {
        "text/plain": "[0.807358980178833, 0.8327999711036682]"
       },
       "execution_count": 7,
       "metadata": {}
      },
      "follow": null,
      "msg_id": null,
      "outputs": [],
      "received": null,
      "started": null,
      "status": null,
      "stderr": "",
      "stdout": "313/313 [==============================] - 1s 3ms/step - loss: 0.8074 - accuracy: 0.8328\n",
      "submitted": "2022-01-22T08:09:33.611705Z"
     },
     "output_type": "display_data"
    },
    {
     "data": {
      "text/plain": [
       "\u001b[0;31mOut[1:7]: \u001b[0m[0.807358980178833, 0.8327999711036682]"
      ]
     },
     "metadata": {
      "after": null,
      "completed": null,
      "data": {},
      "engine_id": 1,
      "engine_uuid": "cb130789-d6cc5d134b864c9432c3d2cf",
      "error": null,
      "execute_input": "model.evaluate(x_test, y_test)\n",
      "execute_result": {
       "data": {
        "text/plain": "[0.807358980178833, 0.8327999711036682]"
       },
       "execution_count": 7,
       "metadata": {}
      },
      "follow": null,
      "msg_id": null,
      "outputs": [],
      "received": null,
      "started": null,
      "status": null,
      "stderr": "",
      "stdout": "313/313 [==============================] - 1s 3ms/step - loss: 0.8074 - accuracy: 0.8328\n",
      "submitted": "2022-01-22T08:09:33.611129Z"
     },
     "output_type": "display_data"
    },
    {
     "data": {
      "text/plain": [
       "\u001b[0;31mOut[3:7]: \u001b[0m[0.807358980178833, 0.8327999711036682]"
      ]
     },
     "metadata": {
      "after": null,
      "completed": null,
      "data": {},
      "engine_id": 3,
      "engine_uuid": "5361ba18-35a70572278ce0d251f96851",
      "error": null,
      "execute_input": "model.evaluate(x_test, y_test)\n",
      "execute_result": {
       "data": {
        "text/plain": "[0.807358980178833, 0.8327999711036682]"
       },
       "execution_count": 7,
       "metadata": {}
      },
      "follow": null,
      "msg_id": null,
      "outputs": [],
      "received": null,
      "started": null,
      "status": null,
      "stderr": "",
      "stdout": "313/313 [==============================] - 1s 3ms/step - loss: 0.8074 - accuracy: 0.8328\n",
      "submitted": "2022-01-22T08:09:33.611491Z"
     },
     "output_type": "display_data"
    },
    {
     "data": {
      "text/plain": [
       "\u001b[0;31mOut[7:7]: \u001b[0m[0.807358980178833, 0.8327999711036682]"
      ]
     },
     "metadata": {
      "after": null,
      "completed": null,
      "data": {},
      "engine_id": 7,
      "engine_uuid": "c4b0b6a1-4c3fa67c2adb118eb85019c7",
      "error": null,
      "execute_input": "model.evaluate(x_test, y_test)\n",
      "execute_result": {
       "data": {
        "text/plain": "[0.807358980178833, 0.8327999711036682]"
       },
       "execution_count": 7,
       "metadata": {}
      },
      "follow": null,
      "msg_id": null,
      "outputs": [],
      "received": null,
      "started": null,
      "status": null,
      "stderr": "",
      "stdout": "313/313 [==============================] - 1s 3ms/step - loss: 0.8074 - accuracy: 0.8328\n",
      "submitted": "2022-01-22T08:09:33.611898Z"
     },
     "output_type": "display_data"
    },
    {
     "data": {
      "text/plain": [
       "\u001b[0;31mOut[6:7]: \u001b[0m[0.807358980178833, 0.8327999711036682]"
      ]
     },
     "metadata": {
      "after": null,
      "completed": null,
      "data": {},
      "engine_id": 6,
      "engine_uuid": "5c3e7c3d-5c83cca4c16d33e5e2073d6a",
      "error": null,
      "execute_input": "model.evaluate(x_test, y_test)\n",
      "execute_result": {
       "data": {
        "text/plain": "[0.807358980178833, 0.8327999711036682]"
       },
       "execution_count": 7,
       "metadata": {}
      },
      "follow": null,
      "msg_id": null,
      "outputs": [],
      "received": null,
      "started": null,
      "status": null,
      "stderr": "",
      "stdout": "313/313 [==============================] - 1s 3ms/step - loss: 0.8074 - accuracy: 0.8328\n",
      "submitted": "2022-01-22T08:09:33.611798Z"
     },
     "output_type": "display_data"
    },
    {
     "data": {
      "text/plain": [
       "\u001b[0;31mOut[0:7]: \u001b[0m[0.807358980178833, 0.8327999711036682]"
      ]
     },
     "metadata": {
      "after": null,
      "completed": null,
      "data": {},
      "engine_id": 0,
      "engine_uuid": "1950f6f3-cd1bbac8814e66d4e6a5b3d0",
      "error": null,
      "execute_input": "model.evaluate(x_test, y_test)\n",
      "execute_result": {
       "data": {
        "text/plain": "[0.807358980178833, 0.8327999711036682]"
       },
       "execution_count": 7,
       "metadata": {}
      },
      "follow": null,
      "msg_id": null,
      "outputs": [],
      "received": null,
      "started": null,
      "status": null,
      "stderr": "",
      "stdout": "313/313 [==============================] - 1s 3ms/step - loss: 0.8074 - accuracy: 0.8328\n",
      "submitted": "2022-01-22T08:09:33.610547Z"
     },
     "output_type": "display_data"
    },
    {
     "data": {
      "text/plain": [
       "\u001b[0;31mOut[4:7]: \u001b[0m[0.807358980178833, 0.8327999711036682]"
      ]
     },
     "metadata": {
      "after": null,
      "completed": null,
      "data": {},
      "engine_id": 4,
      "engine_uuid": "962c5898-8ac2906548a9d1651371bb47",
      "error": null,
      "execute_input": "model.evaluate(x_test, y_test)\n",
      "execute_result": {
       "data": {
        "text/plain": "[0.807358980178833, 0.8327999711036682]"
       },
       "execution_count": 7,
       "metadata": {}
      },
      "follow": null,
      "msg_id": null,
      "outputs": [],
      "received": null,
      "started": null,
      "status": null,
      "stderr": "",
      "stdout": "313/313 [==============================] - 1s 3ms/step - loss: 0.8074 - accuracy: 0.8328\n",
      "submitted": "2022-01-22T08:09:33.611603Z"
     },
     "output_type": "display_data"
    }
   ],
   "source": [
    "%%px\n",
    "model.evaluate(x_test, y_test)"
   ]
  },
  {
   "cell_type": "markdown",
   "id": "6dedba2f",
   "metadata": {},
   "source": [
    "## Training has been done! Remember to shut down the MPI engines to release resources."
   ]
  },
  {
   "cell_type": "code",
   "execution_count": 10,
   "id": "cc6bc12c-c316-41f6-b268-ec487ef321c3",
   "metadata": {},
   "outputs": [
    {
     "name": "stdout",
     "output_type": "stream",
     "text": [
      "Controller stopped: {'exit_code': 0, 'pid': 18274, 'identifier': 'ipcontroller-1642838956-zlnc-18257'}\n",
      "engine set stopped 1642838957: {'exit_code': 0, 'pid': 18369, 'identifier': 'ipengine-1642838956-zlnc-1642838957-18257'}\n"
     ]
    }
   ],
   "source": [
    "client.shutdown(hub=True)"
   ]
  }
 ],
 "metadata": {
  "kernelspec": {
   "display_name": "Python 3 (ipykernel)",
   "language": "python",
   "name": "python3"
  },
  "language_info": {
   "codemirror_mode": {
    "name": "ipython",
    "version": 3
   },
   "file_extension": ".py",
   "mimetype": "text/x-python",
   "name": "python",
   "nbconvert_exporter": "python",
   "pygments_lexer": "ipython3",
   "version": "3.8.10"
  }
 },
 "nbformat": 4,
 "nbformat_minor": 5
}
